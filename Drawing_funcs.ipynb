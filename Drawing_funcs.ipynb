{
 "cells": [
  {
   "cell_type": "code",
   "execution_count": 1,
   "metadata": {},
   "outputs": [],
   "source": [
    "import numpy as np\n",
    "import cv2"
   ]
  },
  {
   "cell_type": "code",
   "execution_count": 2,
   "metadata": {},
   "outputs": [],
   "source": [
    "#Create a black image\n",
    "img = np.zeros((512,512,3), np.uint8)"
   ]
  },
  {
   "cell_type": "code",
   "execution_count": 3,
   "metadata": {},
   "outputs": [],
   "source": [
    "#Create a blue line from (start) to (end)\n",
    "\n",
    "img = cv2.line(img,(0,0),(300,400),(255,3,2),5)\n",
    "\n",
    "cv2.imshow(\"Line\", img)\n",
    "cv2.waitKey(0)\n",
    "cv2.destroyAllWindows()"
   ]
  },
  {
   "cell_type": "code",
   "execution_count": 4,
   "metadata": {},
   "outputs": [],
   "source": [
    "#Create a  rectangle\n",
    "#Parameters given :- top left corner and bottom right corner\n",
    "\n",
    "img = cv2.rectangle(img,(385,0),(512,1),(0,100,0),4)\n",
    "\n",
    "cv2.imshow(\"Rectangle\", img)\n",
    "cv2.waitKey(0)\n",
    "cv2.destroyAllWindows()"
   ]
  },
  {
   "cell_type": "code",
   "execution_count": 5,
   "metadata": {},
   "outputs": [],
   "source": [
    "#Create a ellipse\n",
    "#Parameters :- (centre),(major axis length, minor axis length),angle,start_angle,end_angle\n",
    "\n",
    "img= cv2.ellipse(img,(0,0),(100,50),0,0,360,300,1)\n",
    "\n",
    "cv2.imshow('Eclipse', img)\n",
    "cv2.waitKey(0)\n",
    "cv2.destroyAllWindows()"
   ]
  },
  {
   "cell_type": "code",
   "execution_count": 6,
   "metadata": {},
   "outputs": [],
   "source": [
    "#Create a Polygon\n",
    "#Co-ordinates of Vertices\n",
    "pts = np.array([[10,5],[20,30],[70,20],[50,10]], np.int32)\n",
    "\n",
    "#Converting points into array \n",
    "pts = pts.reshape((-1,1,2))\n",
    "\n",
    "#Drawing polygon\n",
    "img = cv2.polylines(img,[pts],True,(0,255,255))\n",
    "\n",
    "cv2.imshow('Polygon', img)\n",
    "cv2.waitKey(0)\n",
    "cv2.destroyAllWindows()"
   ]
  }
 ],
 "metadata": {
  "kernelspec": {
   "display_name": "Python 3",
   "language": "python",
   "name": "python3"
  },
  "language_info": {
   "codemirror_mode": {
    "name": "ipython",
    "version": 3
   },
   "file_extension": ".py",
   "mimetype": "text/x-python",
   "name": "python",
   "nbconvert_exporter": "python",
   "pygments_lexer": "ipython3",
   "version": "3.6.6"
  }
 },
 "nbformat": 4,
 "nbformat_minor": 2
}
